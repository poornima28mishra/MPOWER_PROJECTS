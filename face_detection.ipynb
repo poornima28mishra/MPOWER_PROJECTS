{
 "cells": [
  {
   "cell_type": "code",
   "execution_count": 1,
   "id": "da55e6b7-a90d-4c9b-a8c8-7e13dbb94c77",
   "metadata": {},
   "outputs": [],
   "source": [
    "import cv2\n",
    "import face_recognition as fr\n",
    "import numpy as np"
   ]
  },
  {
   "cell_type": "code",
   "execution_count": 2,
   "id": "bf2141ea-cea1-4b5f-83d2-349fdfc18954",
   "metadata": {},
   "outputs": [],
   "source": [
    "video_cap = cv2.VideoCapture(0)"
   ]
  },
  {
   "cell_type": "code",
   "execution_count": 3,
   "id": "2a74fe04-6a62-4d3b-b2c7-e9f4b7f3d68b",
   "metadata": {},
   "outputs": [],
   "source": [
    "img=fr.load_image_file(r\"C:\\Users\\Poorn\\OneDrive\\Desktop\\me.jpg\")"
   ]
  },
  {
   "cell_type": "code",
   "execution_count": 4,
   "id": "8dea915b-3fd3-403e-a404-7112e9785f2a",
   "metadata": {},
   "outputs": [],
   "source": [
    "img_face_encoding = fr.face_encodings(img)[0]"
   ]
  },
  {
   "cell_type": "code",
   "execution_count": 5,
   "id": "a0d6784a-c24a-4c77-93c0-4ae846126755",
   "metadata": {},
   "outputs": [],
   "source": [
    "known_face_encodings = [img_face_encoding]"
   ]
  },
  {
   "cell_type": "code",
   "execution_count": 6,
   "id": "ddd2a0c0-e339-4479-bfbf-26146b531337",
   "metadata": {},
   "outputs": [],
   "source": [
    "known_face_names = [\"POORNIMA\"]"
   ]
  },
  {
   "cell_type": "code",
   "execution_count": 7,
   "id": "5078918b-142e-461a-bb2b-666c7a236f22",
   "metadata": {},
   "outputs": [],
   "source": [
    "while True:\n",
    "    ret, frame = video_cap.read()\n",
    "    if not ret:\n",
    "        break\n",
    "    rgb_frame = cv2.cvtColor(frame, cv2.COLOR_BGR2RGB)\n",
    "    fc_locations = fr.face_locations(rgb_frame)\n",
    "    fc_encodings = fr.face_encodings(rgb_frame, fc_locations)\n",
    "    \n",
    "    for (top, right, bottom, left), face_encoding in zip(fc_locations, fc_encodings):\n",
    "        matches = fr.compare_faces(known_face_encodings, face_encoding)\n",
    "        name = \"Unknown\"\n",
    "\n",
    "        fc_distances = fr.face_distance(known_face_encodings, face_encoding)\n",
    "        match_index = np.argmin(fc_distances)\n",
    "        if matches[match_index]:\n",
    "            name = known_face_names[match_index]\n",
    "\n",
    "        cv2.rectangle(frame, (left, top), (right, bottom), (0, 0, 255), 2)\n",
    "        cv2.rectangle(frame, (left, bottom - 35), (right, bottom), (0, 0, 255), cv2.FILLED)\n",
    "        font = cv2.FONT_HERSHEY_SIMPLEX\n",
    "        cv2.putText(frame, name, (left +6, bottom -6), font, 1.0, (255, 255, 255), 1)\n",
    "\n",
    "    cv2.imshow('Simple Face Detection', frame)\n",
    "    if cv2.waitKey(1) & 0xFF == ord('q'):\n",
    "        break\n",
    "\n",
    "video_cap.release()\n",
    "cv2.destroyAllWindows()"
   ]
  },
  {
   "cell_type": "code",
   "execution_count": null,
   "id": "4705f193-7ff0-4cd4-95c3-bc768009aec3",
   "metadata": {},
   "outputs": [],
   "source": []
  }
 ],
 "metadata": {
  "kernelspec": {
   "display_name": "Python 3 (ipykernel)",
   "language": "python",
   "name": "python3"
  },
  "language_info": {
   "codemirror_mode": {
    "name": "ipython",
    "version": 3
   },
   "file_extension": ".py",
   "mimetype": "text/x-python",
   "name": "python",
   "nbconvert_exporter": "python",
   "pygments_lexer": "ipython3",
   "version": "3.11.7"
  }
 },
 "nbformat": 4,
 "nbformat_minor": 5
}
